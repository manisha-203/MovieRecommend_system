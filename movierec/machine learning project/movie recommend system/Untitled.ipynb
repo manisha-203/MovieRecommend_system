{
 "cells": [
  {
   "cell_type": "code",
   "execution_count": null,
   "id": "4086f958-152c-4abe-ae56-26ce46189a26",
   "metadata": {},
   "outputs": [],
   "source": [
    "jbjmbmm,n,m"
   ]
  }
 ],
 "metadata": {
  "kernelspec": {
   "display_name": "Python 3 (ipykernel)",
   "language": "python",
   "name": "python3"
  },
  "language_info": {
   "codemirror_mode": {
    "name": "ipython",
    "version": 3
   },
   "file_extension": ".py",
   "mimetype": "text/x-python",
   "name": "python",
   "nbconvert_exporter": "python",
   "pygments_lexer": "ipython3",
   "version": "3.12.1"
  }
 },
 "nbformat": 4,
 "nbformat_minor": 5
}
